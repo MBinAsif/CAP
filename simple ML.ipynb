{
 "cells": [
  {
   "cell_type": "code",
   "execution_count": 1,
   "id": "c23f1a0a",
   "metadata": {},
   "outputs": [
    {
     "name": "stdout",
     "output_type": "stream",
     "text": [
      "Requirement already satisfied: flask in d:\\new folder\\lib\\site-packages (2.2.2)Note: you may need to restart the kernel to use updated packages.\n",
      "\n",
      "Requirement already satisfied: Werkzeug>=2.2.2 in d:\\new folder\\lib\\site-packages (from flask) (2.2.2)\n",
      "Requirement already satisfied: Jinja2>=3.0 in d:\\new folder\\lib\\site-packages (from flask) (3.1.2)\n",
      "Requirement already satisfied: click>=8.0 in d:\\new folder\\lib\\site-packages (from flask) (8.0.4)\n",
      "Requirement already satisfied: itsdangerous>=2.0 in d:\\new folder\\lib\\site-packages (from flask) (2.0.1)\n",
      "Requirement already satisfied: colorama in d:\\new folder\\lib\\site-packages (from click>=8.0->flask) (0.4.6)\n",
      "Requirement already satisfied: MarkupSafe>=2.0 in d:\\new folder\\lib\\site-packages (from Jinja2>=3.0->flask) (2.1.1)\n"
     ]
    }
   ],
   "source": [
    "pip install flask"
   ]
  },
  {
   "cell_type": "code",
   "execution_count": 2,
   "id": "80955cd5",
   "metadata": {},
   "outputs": [
    {
     "name": "stdout",
     "output_type": "stream",
     "text": [
      "Collecting spacy\n",
      "  Using cached spacy-3.7.2-cp310-cp310-win_amd64.whl (12.1 MB)\n",
      "Requirement already satisfied: weasel<0.4.0,>=0.1.0 in d:\\new folder\\lib\\site-packages (from spacy) (0.3.4)\n",
      "Requirement already satisfied: srsly<3.0.0,>=2.4.3 in d:\\new folder\\lib\\site-packages (from spacy) (2.4.8)\n",
      "Requirement already satisfied: packaging>=20.0 in d:\\new folder\\lib\\site-packages (from spacy) (22.0)\n",
      "Requirement already satisfied: setuptools in d:\\new folder\\lib\\site-packages (from spacy) (65.6.3)\n",
      "Requirement already satisfied: langcodes<4.0.0,>=3.2.0 in d:\\new folder\\lib\\site-packages (from spacy) (3.3.0)\n",
      "Requirement already satisfied: smart-open<7.0.0,>=5.2.1 in d:\\new folder\\lib\\site-packages (from spacy) (5.2.1)\n",
      "Requirement already satisfied: pydantic!=1.8,!=1.8.1,<3.0.0,>=1.7.4 in d:\\new folder\\lib\\site-packages (from spacy) (2.5.1)\n",
      "Requirement already satisfied: thinc<8.3.0,>=8.1.8 in d:\\new folder\\lib\\site-packages (from spacy) (8.2.1)\n",
      "Requirement already satisfied: numpy>=1.19.0 in d:\\new folder\\lib\\site-packages (from spacy) (1.23.5)\n",
      "Requirement already satisfied: typer<0.10.0,>=0.3.0 in d:\\new folder\\lib\\site-packages (from spacy) (0.9.0)\n",
      "Requirement already satisfied: tqdm<5.0.0,>=4.38.0 in d:\\new folder\\lib\\site-packages (from spacy) (4.64.1)\n",
      "Requirement already satisfied: spacy-legacy<3.1.0,>=3.0.11 in d:\\new folder\\lib\\site-packages (from spacy) (3.0.12)\n",
      "Requirement already satisfied: murmurhash<1.1.0,>=0.28.0 in d:\\new folder\\lib\\site-packages (from spacy) (1.0.10)\n",
      "Requirement already satisfied: cymem<2.1.0,>=2.0.2 in d:\\new folder\\lib\\site-packages (from spacy) (2.0.8)\n",
      "Requirement already satisfied: spacy-loggers<2.0.0,>=1.0.0 in d:\\new folder\\lib\\site-packages (from spacy) (1.0.5)\n",
      "Requirement already satisfied: requests<3.0.0,>=2.13.0 in d:\\new folder\\lib\\site-packages (from spacy) (2.28.1)\n",
      "Requirement already satisfied: preshed<3.1.0,>=3.0.2 in d:\\new folder\\lib\\site-packages (from spacy) (3.0.9)\n",
      "Requirement already satisfied: jinja2 in d:\\new folder\\lib\\site-packages (from spacy) (3.1.2)\n",
      "Requirement already satisfied: catalogue<2.1.0,>=2.0.6 in d:\\new folder\\lib\\site-packages (from spacy) (2.0.10)\n",
      "Requirement already satisfied: wasabi<1.2.0,>=0.9.1 in d:\\new folder\\lib\\site-packages (from spacy) (1.1.2)\n",
      "Requirement already satisfied: pydantic-core==2.14.3 in d:\\new folder\\lib\\site-packages (from pydantic!=1.8,!=1.8.1,<3.0.0,>=1.7.4->spacy) (2.14.3)\n",
      "Requirement already satisfied: annotated-types>=0.4.0 in d:\\new folder\\lib\\site-packages (from pydantic!=1.8,!=1.8.1,<3.0.0,>=1.7.4->spacy) (0.6.0)\n",
      "Requirement already satisfied: typing-extensions>=4.6.1 in d:\\new folder\\lib\\site-packages (from pydantic!=1.8,!=1.8.1,<3.0.0,>=1.7.4->spacy) (4.8.0)\n",
      "Requirement already satisfied: urllib3<1.27,>=1.21.1 in d:\\new folder\\lib\\site-packages (from requests<3.0.0,>=2.13.0->spacy) (1.26.14)\n",
      "Requirement already satisfied: certifi>=2017.4.17 in d:\\new folder\\lib\\site-packages (from requests<3.0.0,>=2.13.0->spacy) (2022.12.7)\n",
      "Requirement already satisfied: idna<4,>=2.5 in d:\\new folder\\lib\\site-packages (from requests<3.0.0,>=2.13.0->spacy) (3.4)\n",
      "Requirement already satisfied: charset-normalizer<3,>=2 in d:\\new folder\\lib\\site-packages (from requests<3.0.0,>=2.13.0->spacy) (2.0.4)\n",
      "Requirement already satisfied: blis<0.8.0,>=0.7.8 in d:\\new folder\\lib\\site-packages (from thinc<8.3.0,>=8.1.8->spacy) (0.7.11)\n",
      "Requirement already satisfied: confection<1.0.0,>=0.0.1 in d:\\new folder\\lib\\site-packages (from thinc<8.3.0,>=8.1.8->spacy) (0.1.3)\n",
      "Requirement already satisfied: colorama in d:\\new folder\\lib\\site-packages (from tqdm<5.0.0,>=4.38.0->spacy) (0.4.6)\n",
      "Requirement already satisfied: click<9.0.0,>=7.1.1 in d:\\new folder\\lib\\site-packages (from typer<0.10.0,>=0.3.0->spacy) (8.0.4)\n",
      "Requirement already satisfied: cloudpathlib<0.17.0,>=0.7.0 in d:\\new folder\\lib\\site-packages (from weasel<0.4.0,>=0.1.0->spacy) (0.16.0)\n",
      "Requirement already satisfied: MarkupSafe>=2.0 in d:\\new folder\\lib\\site-packages (from jinja2->spacy) (2.1.1)\n",
      "Installing collected packages: spacy\n",
      "Successfully installed spacy-3.7.2\n",
      "Note: you may need to restart the kernel to use updated packages.\n"
     ]
    }
   ],
   "source": [
    "pip install spacy"
   ]
  },
  {
   "cell_type": "code",
   "execution_count": 8,
   "id": "23f3e375",
   "metadata": {},
   "outputs": [],
   "source": [
    "import spacy\n",
    "import tkinter as tk\n",
    "from tkinter import messagebox\n",
    "\n",
    "def predict_category():\n",
    "    sample_text = entry.get()  # Get the text from the entry field\n",
    "    doc = nlp(sample_text)\n",
    "    predicted_category = max(doc.cats, key=doc.cats.get)\n",
    "    category_probabilities = doc.cats\n",
    "    messagebox.showinfo(\"Prediction Result\", \n",
    "                        f\"Predicted Category: {predicted_category}\\nCategory Probabilities: {category_probabilities}\")\n",
    "\n",
    "# Load the saved model\n",
    "nlp = spacy.load(\"C:\\\\Users\\\\muham\\\\OneDrive\\\\Desktop\\\\Semester 7\\\\NLP\\\\Project\\\\spacy_car_model\")\n",
    "\n",
    "# Create the Tkinter window\n",
    "root = tk.Tk()\n",
    "root.title(\"Car Feature Prediction\")\n",
    "\n",
    "# Create an entry field for user input\n",
    "entry = tk.Entry(root, width=40)\n",
    "entry.pack()\n",
    "\n",
    "# Create a button to trigger prediction\n",
    "predict_button = tk.Button(root, text=\"Predict\", command=predict_category)\n",
    "predict_button.pack()\n",
    "\n",
    "# Run the Tkinter main loop\n",
    "root.mainloop()\n"
   ]
  }
 ],
 "metadata": {
  "kernelspec": {
   "display_name": "Python 3 (ipykernel)",
   "language": "python",
   "name": "python3"
  },
  "language_info": {
   "codemirror_mode": {
    "name": "ipython",
    "version": 3
   },
   "file_extension": ".py",
   "mimetype": "text/x-python",
   "name": "python",
   "nbconvert_exporter": "python",
   "pygments_lexer": "ipython3",
   "version": "3.10.9"
  }
 },
 "nbformat": 4,
 "nbformat_minor": 5
}
